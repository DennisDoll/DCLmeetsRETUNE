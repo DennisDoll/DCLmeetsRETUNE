{
 "cells": [
  {
   "cell_type": "markdown",
   "id": "12af9e70-fa43-4296-ab35-c48f1b29a010",
   "metadata": {},
   "source": [
    "Notes:\n",
    "For next meeting:\n",
    "\n",
    "Pymer4 lmer won't run! --> solution code in R --> how to implement it?\n",
    "Prorblem: inverse gausian or gamma won't take non-positive values (they're present in data)\n",
    "can't make function out of GLMER due to family arguement (can't be tranfered into function)\n",
    "--> maybe run models outside functions? But how do we specify the family?\n",
    "\n",
    "Do we trust equal varriance to be enough to not add mixed effects? Ask statistician!"
   ]
  },
  {
   "cell_type": "code",
   "execution_count": 2,
   "id": "dfac0cef-025d-4b4b-b664-39fceea438f3",
   "metadata": {},
   "outputs": [],
   "source": [
    "import sys\n",
    "sys.path.append('/Users/Sofie/Documents/DCL/DCLmeetsRETUNE/image_analysis_pipeline/')"
   ]
  },
  {
   "cell_type": "code",
   "execution_count": 3,
   "id": "cd696a6a-30b4-44cb-8456-b0df07dd73a0",
   "metadata": {},
   "outputs": [],
   "source": [
    "from findmycells.main import Project\n",
    "from findmycells.quantifications import ReconstructCellsIn3DFrom2DInstanceLabels, CountCellsInWholeStructure\n",
    "#from findmycells.inspection import InspectUsingMultiMatchIDX"
   ]
  },
  {
   "cell_type": "code",
   "execution_count": 4,
   "id": "0dec2302-5e2a-4e66-9710-04652b3b1ac4",
   "metadata": {},
   "outputs": [],
   "source": [
    "import pandas as pd\n",
    "import numpy as np\n",
    "import seaborn as sns\n",
    "from pingouin import kruskal, read_dataset\n",
    "import matplotlib\n",
    "import matplotlib.pyplot as plt\n",
    "from scipy.stats import shapiro\n",
    "import scipy\n",
    "#from statsmodels import qqplot\n",
    "import statsmodels.formula.api as smf\n",
    "#from statsmodels.formula.api import MixedLM\n",
    "from scipy.stats import norm, levene, bartlett\n",
    "import statistics\n",
    "import statsmodels.api as sm\n",
    "from fitter import Fitter, get_common_distributions, get_distributions\n",
    "from pymer4.models import Lm, Lmer\n",
    "import pymer4\n",
    "import rpy2"
   ]
  },
  {
   "cell_type": "markdown",
   "id": "4299240f-2c50-4be5-800e-60f68695141d",
   "metadata": {},
   "source": [
    "## Load and Prepare the Data"
   ]
  },
  {
   "cell_type": "code",
   "execution_count": 5,
   "id": "47da210b-8f7c-4d10-a0a2-d9a4a9be3acb",
   "metadata": {},
   "outputs": [],
   "source": [
    "df = pd.read_csv('counted_cells.csv')"
   ]
  },
  {
   "cell_type": "code",
   "execution_count": 6,
   "id": "cbc95bd2-79d1-43ca-aa19-5972ba618828",
   "metadata": {},
   "outputs": [
    {
     "data": {
      "text/html": [
       "<div>\n",
       "<style scoped>\n",
       "    .dataframe tbody tr th:only-of-type {\n",
       "        vertical-align: middle;\n",
       "    }\n",
       "\n",
       "    .dataframe tbody tr th {\n",
       "        vertical-align: top;\n",
       "    }\n",
       "\n",
       "    .dataframe thead th {\n",
       "        text-align: right;\n",
       "    }\n",
       "</style>\n",
       "<table border=\"1\" class=\"dataframe\">\n",
       "  <thead>\n",
       "    <tr style=\"text-align: right;\">\n",
       "      <th></th>\n",
       "      <th>Unnamed: 0</th>\n",
       "      <th>file_id</th>\n",
       "      <th>group_id</th>\n",
       "      <th>subject_id</th>\n",
       "      <th>analyzed_area</th>\n",
       "      <th>total_planes</th>\n",
       "      <th>connected_components</th>\n",
       "      <th>cc_normalized_per_area</th>\n",
       "      <th>cc_normalized_per_volume</th>\n",
       "    </tr>\n",
       "  </thead>\n",
       "  <tbody>\n",
       "    <tr>\n",
       "      <th>51</th>\n",
       "      <td>51</td>\n",
       "      <td>54</td>\n",
       "      <td>wt</td>\n",
       "      <td>#7_wt_old</td>\n",
       "      <td>8767360.0</td>\n",
       "      <td>9.0</td>\n",
       "      <td>86.0</td>\n",
       "      <td>130.837103</td>\n",
       "      <td>14.537456</td>\n",
       "    </tr>\n",
       "    <tr>\n",
       "      <th>52</th>\n",
       "      <td>52</td>\n",
       "      <td>55</td>\n",
       "      <td>wt</td>\n",
       "      <td>#7_wt_old</td>\n",
       "      <td>5892928.0</td>\n",
       "      <td>8.0</td>\n",
       "      <td>12.0</td>\n",
       "      <td>27.161354</td>\n",
       "      <td>3.395169</td>\n",
       "    </tr>\n",
       "    <tr>\n",
       "      <th>53</th>\n",
       "      <td>53</td>\n",
       "      <td>56</td>\n",
       "      <td>wt</td>\n",
       "      <td>#7_wt_old</td>\n",
       "      <td>4314688.0</td>\n",
       "      <td>9.0</td>\n",
       "      <td>70.0</td>\n",
       "      <td>216.396361</td>\n",
       "      <td>24.044040</td>\n",
       "    </tr>\n",
       "    <tr>\n",
       "      <th>54</th>\n",
       "      <td>54</td>\n",
       "      <td>57</td>\n",
       "      <td>wt</td>\n",
       "      <td>#9_wt_old</td>\n",
       "      <td>5140832.0</td>\n",
       "      <td>8.0</td>\n",
       "      <td>46.0</td>\n",
       "      <td>119.350909</td>\n",
       "      <td>14.918864</td>\n",
       "    </tr>\n",
       "    <tr>\n",
       "      <th>55</th>\n",
       "      <td>55</td>\n",
       "      <td>58</td>\n",
       "      <td>wt</td>\n",
       "      <td>#9_wt_old</td>\n",
       "      <td>4477600.0</td>\n",
       "      <td>8.0</td>\n",
       "      <td>71.0</td>\n",
       "      <td>211.501944</td>\n",
       "      <td>26.437743</td>\n",
       "    </tr>\n",
       "    <tr>\n",
       "      <th>56</th>\n",
       "      <td>56</td>\n",
       "      <td>59</td>\n",
       "      <td>wt</td>\n",
       "      <td>#9_wt_old</td>\n",
       "      <td>7410528.0</td>\n",
       "      <td>9.0</td>\n",
       "      <td>184.0</td>\n",
       "      <td>331.184482</td>\n",
       "      <td>36.798276</td>\n",
       "    </tr>\n",
       "    <tr>\n",
       "      <th>57</th>\n",
       "      <td>57</td>\n",
       "      <td>60</td>\n",
       "      <td>wt</td>\n",
       "      <td>#9_wt_old</td>\n",
       "      <td>7109728.0</td>\n",
       "      <td>10.0</td>\n",
       "      <td>152.0</td>\n",
       "      <td>285.162170</td>\n",
       "      <td>28.516217</td>\n",
       "    </tr>\n",
       "    <tr>\n",
       "      <th>58</th>\n",
       "      <td>58</td>\n",
       "      <td>61</td>\n",
       "      <td>wt</td>\n",
       "      <td>#9_wt_old</td>\n",
       "      <td>5770116.0</td>\n",
       "      <td>9.0</td>\n",
       "      <td>123.0</td>\n",
       "      <td>284.329471</td>\n",
       "      <td>31.592163</td>\n",
       "    </tr>\n",
       "    <tr>\n",
       "      <th>59</th>\n",
       "      <td>59</td>\n",
       "      <td>62</td>\n",
       "      <td>wt</td>\n",
       "      <td>#9_wt_old</td>\n",
       "      <td>5751712.0</td>\n",
       "      <td>9.0</td>\n",
       "      <td>86.0</td>\n",
       "      <td>199.435575</td>\n",
       "      <td>22.159508</td>\n",
       "    </tr>\n",
       "    <tr>\n",
       "      <th>60</th>\n",
       "      <td>60</td>\n",
       "      <td>63</td>\n",
       "      <td>wt</td>\n",
       "      <td>#9_wt_old</td>\n",
       "      <td>4715968.0</td>\n",
       "      <td>10.0</td>\n",
       "      <td>96.0</td>\n",
       "      <td>271.519917</td>\n",
       "      <td>27.151992</td>\n",
       "    </tr>\n",
       "  </tbody>\n",
       "</table>\n",
       "</div>"
      ],
      "text/plain": [
       "    Unnamed: 0  file_id group_id subject_id  analyzed_area  total_planes  \\\n",
       "51          51       54       wt  #7_wt_old      8767360.0           9.0   \n",
       "52          52       55       wt  #7_wt_old      5892928.0           8.0   \n",
       "53          53       56       wt  #7_wt_old      4314688.0           9.0   \n",
       "54          54       57       wt  #9_wt_old      5140832.0           8.0   \n",
       "55          55       58       wt  #9_wt_old      4477600.0           8.0   \n",
       "56          56       59       wt  #9_wt_old      7410528.0           9.0   \n",
       "57          57       60       wt  #9_wt_old      7109728.0          10.0   \n",
       "58          58       61       wt  #9_wt_old      5770116.0           9.0   \n",
       "59          59       62       wt  #9_wt_old      5751712.0           9.0   \n",
       "60          60       63       wt  #9_wt_old      4715968.0          10.0   \n",
       "\n",
       "    connected_components  cc_normalized_per_area  cc_normalized_per_volume  \n",
       "51                  86.0              130.837103                 14.537456  \n",
       "52                  12.0               27.161354                  3.395169  \n",
       "53                  70.0              216.396361                 24.044040  \n",
       "54                  46.0              119.350909                 14.918864  \n",
       "55                  71.0              211.501944                 26.437743  \n",
       "56                 184.0              331.184482                 36.798276  \n",
       "57                 152.0              285.162170                 28.516217  \n",
       "58                 123.0              284.329471                 31.592163  \n",
       "59                  86.0              199.435575                 22.159508  \n",
       "60                  96.0              271.519917                 27.151992  "
      ]
     },
     "execution_count": 6,
     "metadata": {},
     "output_type": "execute_result"
    }
   ],
   "source": [
    "df.tail(10)"
   ]
  },
  {
   "cell_type": "markdown",
   "id": "43806e93-971b-4ea2-a17e-ab9f00628305",
   "metadata": {},
   "source": [
    "## Let's check normality"
   ]
  },
  {
   "cell_type": "code",
   "execution_count": 7,
   "id": "2cf4dc0b-6cb0-4e60-9795-012921d549bf",
   "metadata": {},
   "outputs": [],
   "source": [
    "stat_results = dict()"
   ]
  },
  {
   "cell_type": "code",
   "execution_count": 11,
   "id": "d621ad7e-c88d-4e8d-bfdf-e93f6273e701",
   "metadata": {},
   "outputs": [],
   "source": [
    "from typing import Dict, List, Tuple\n",
    "\n",
    "def check_normality(data: pd.DataFrame, dv_col: str, results: Dict) -> Dict:\n",
    "    stat, p = shapiro(data[dv_col])\n",
    "    if p >= 0.05:\n",
    "        normal = True\n",
    "    else:\n",
    "        normal = False\n",
    "    results['normal_distribution'] = {'test_statistic': stat, 'p-value': p, 'bool': normal}\n",
    "    return results"
   ]
  },
  {
   "cell_type": "code",
   "execution_count": 12,
   "id": "47ab9e42-7463-4d76-aeb1-f7abf7bcd1aa",
   "metadata": {},
   "outputs": [
    {
     "data": {
      "text/plain": [
       "{'normal_distribution': {'test_statistic': 0.9805209636688232,\n",
       "  'p-value': 0.43962615728378296,\n",
       "  'bool': True}}"
      ]
     },
     "execution_count": 12,
     "metadata": {},
     "output_type": "execute_result"
    }
   ],
   "source": [
    "#test it runs\n",
    "check_normality(df, 'cc_normalized_per_volume', stat_results)"
   ]
  },
  {
   "cell_type": "markdown",
   "id": "e219ad1d-187f-4bbb-82f1-e2942619f8cf",
   "metadata": {},
   "source": [
    "### Equal varriance testing function"
   ]
  },
  {
   "cell_type": "code",
   "execution_count": 15,
   "id": "93d7b12c-3c49-45a6-9f99-28f9269deb06",
   "metadata": {},
   "outputs": [],
   "source": [
    "def equal_variance_test(data: pd.DataFrame, dv_col: str, iv_col: str, results: Dict) -> Dict:\n",
    "    #note that in iv_col we NEED items to be called 'tg' and 'wt' --> how to work around? we just need to seperate based on level\n",
    "    \n",
    "    #Make dataframes compatible for Levene's and Bartlett's test\n",
    "    df_tg = data.loc[data[iv_col] == 'tg']\n",
    "    df_tg = df_tg.rename(columns={dv_col: \"tg\"})\n",
    "\n",
    "    df_wt = data.loc[data[iv_col] == 'wt']\n",
    "    df_wt = df_wt.rename(columns={dv_col: \"wt\"})\n",
    "\n",
    "    #use levene on non-normal data and Bartels on normal data to test equal varriance\n",
    "    if results['normal_distribution']['bool'] == False: #non-normal data\n",
    "        stat, p_homo = levene(df_wt['wt'], df_tg['tg'])\n",
    "        if p_homo >= 0.05:\n",
    "            normal = True\n",
    "            results['fixed_effects_equal_varriance'] = {'test_statistic': stat, 'p-value': p_homo, 'bool': normal}\n",
    "        elif p_homo < 0.05:\n",
    "            normal = False\n",
    "            results['fixed_effects_equal_varriance'] = {'test_statistic': stat, 'p-value': p_homo, 'bool': normal}\n",
    "    elif results['normal_distribution']['bool'] == True: #normal data\n",
    "        stat, p_homo = bartlett(df_wt['wt'], df_tg['tg'])\n",
    "        if p_homo >= 0.05:\n",
    "            normal = True\n",
    "            results['fixed_effects_equal_varriance'] = {'test_statistic': stat, 'p-value': p_homo, 'bool': normal}\n",
    "        elif p_homo < 0.05:\n",
    "            normal = False\n",
    "            results['fixed_effects_equal_varriance'] = {'test_statistic': stat, 'p-value': p_homo, 'bool': normal}\n",
    "    else: print('Normality not assessed yet. Please complete normality test before proceeding')\n",
    "    return results"
   ]
  },
  {
   "cell_type": "code",
   "execution_count": 16,
   "id": "1069f19e",
   "metadata": {
    "tags": []
   },
   "outputs": [
    {
     "data": {
      "text/plain": [
       "{'normal_distribution': {'test_statistic': 0.9805209636688232,\n",
       "  'p-value': 0.43962615728378296,\n",
       "  'bool': True},\n",
       " 'fixed_effects_equal_varriance': {'test_statistic': 1.008462065676145,\n",
       "  'p-value': 0.31527156257040106,\n",
       "  'bool': True}}"
      ]
     },
     "execution_count": 16,
     "metadata": {},
     "output_type": "execute_result"
    }
   ],
   "source": [
    "#test that it works\n",
    "equal_variance_test(df, \"cc_normalized_per_volume\", \"group_id\", stat_results)"
   ]
  },
  {
   "cell_type": "markdown",
   "id": "f2977565-eaae-40b6-9c5d-e594ce27f9bd",
   "metadata": {},
   "source": [
    "## Non-parametic function - Kruskal-Wallis H-test"
   ]
  },
  {
   "cell_type": "code",
   "execution_count": 7,
   "id": "9ca255e8-4a66-473a-8370-3623062194d7",
   "metadata": {},
   "outputs": [],
   "source": [
    "#make it a function for no equal varriance\n",
    "def non_par_inequal_var(data: pd.DataFrame, dv_col: str, iv_col: str, subject: str):\n",
    "    #Aggregate the data across subjects\n",
    "    df_nonpar = df.groupby([subject, iv_col], as_index=False)[dv_col].mean()\n",
    "    #run non-par model\n",
    "    non_par_inequal_var = kruskal(data=df_nonpar, dv=dv_col, between=iv_col)\n",
    "    return non_par_inequal_var\n",
    "\n",
    "#make it a function for equal varriance\n",
    "def non_par_equal_var(data: pd.DataFrame, dv_col: str, iv_col: str,):\n",
    "    #run non-par model\n",
    "    non_par_equal_var = kruskal(data=df_nonpar, dv=dv_col, between=iv_col)\n",
    "    return non_par_equal_var\n"
   ]
  },
  {
   "cell_type": "markdown",
   "id": "18f82068-4fca-40f4-b0c0-99cc740b7f25",
   "metadata": {},
   "source": [
    "### Define plot for equal varriance"
   ]
  },
  {
   "cell_type": "code",
   "execution_count": 212,
   "id": "98383769-1c7f-4c86-a529-7cd0a825a5de",
   "metadata": {},
   "outputs": [],
   "source": [
    "def plot_fixed_effect_varriance(data: pd.DataFrame, dv_col: str, fixed_effects_col: str, random_effects_col: str) -> plt:\n",
    "    fig = plt.figure(figsize=(10,12), facecolor='white')\n",
    "    gs = fig.add_gridspec(2, 1)\n",
    "    ax1 = fig.add_subplot(gs[0,0])\n",
    "    sns.violinplot(data = data[data[fixed_effects_col] == 'wt'], x=random_effects_col, y=dv_col, ax = ax1)\n",
    "    ax2 = fig.add_subplot(gs[1,0])\n",
    "    sns.violinplot(data = data[data[fixed_effects_col] == 'tg'], x=random_effects_col, y=dv_col, ax = ax2)\n",
    "    plt.show()"
   ]
  },
  {
   "cell_type": "code",
   "execution_count": 213,
   "id": "a926c73b-ba4a-43eb-80a4-63db4280ab92",
   "metadata": {},
   "outputs": [
    {
     "data": {
      "image/png": "[encoded data removed]",
      "text/plain": [
       "<Figure size 720x864 with 2 Axes>"
      ]
     },
     "metadata": {},
     "output_type": "display_data"
    }
   ],
   "source": [
    "#test it runs\n",
    "plot_fixed_effect_varriance(data = df, dv_col = 'cc_normalized_per_volume', fixed_effects_col = 'group_id', random_effects_col = 'subject_id')"
   ]
  },
  {
   "cell_type": "markdown",
   "id": "8b72c3f6-fdc7-4a93-a9e3-b0ab15bb4dd1",
   "metadata": {},
   "source": [
    "### Define fitter plot"
   ]
  },
  {
   "cell_type": "code",
   "execution_count": 31,
   "id": "2337e1d4-2268-4964-986a-8ba98a5028db",
   "metadata": {},
   "outputs": [],
   "source": [
    "def visualize_distributions(data: pd.DataFrame, dv_col: str, distributions: list):\n",
    "    f = Fitter(data[dv_col], distributions=distributions)\n",
    "    f.fit()\n",
    "    return f.summary()\n"
   ]
  },
  {
   "cell_type": "code",
   "execution_count": 32,
   "id": "984933da-1b03-4452-acd1-27b09073d83b",
   "metadata": {},
   "outputs": [
    {
     "data": {
      "text/html": [
       "<div>\n",
       "<style scoped>\n",
       "    .dataframe tbody tr th:only-of-type {\n",
       "        vertical-align: middle;\n",
       "    }\n",
       "\n",
       "    .dataframe tbody tr th {\n",
       "        vertical-align: top;\n",
       "    }\n",
       "\n",
       "    .dataframe thead th {\n",
       "        text-align: right;\n",
       "    }\n",
       "</style>\n",
       "<table border=\"1\" class=\"dataframe\">\n",
       "  <thead>\n",
       "    <tr style=\"text-align: right;\">\n",
       "      <th></th>\n",
       "      <th>sumsquare_error</th>\n",
       "      <th>aic</th>\n",
       "      <th>bic</th>\n",
       "      <th>kl_div</th>\n",
       "    </tr>\n",
       "  </thead>\n",
       "  <tbody>\n",
       "    <tr>\n",
       "      <th>norm</th>\n",
       "      <td>0.088308</td>\n",
       "      <td>780.197966</td>\n",
       "      <td>-390.583766</td>\n",
       "      <td>inf</td>\n",
       "    </tr>\n",
       "    <tr>\n",
       "      <th>gamma</th>\n",
       "      <td>0.088521</td>\n",
       "      <td>781.830249</td>\n",
       "      <td>-386.326211</td>\n",
       "      <td>inf</td>\n",
       "    </tr>\n",
       "    <tr>\n",
       "      <th>lognorm</th>\n",
       "      <td>0.090317</td>\n",
       "      <td>784.101266</td>\n",
       "      <td>-385.100941</td>\n",
       "      <td>inf</td>\n",
       "    </tr>\n",
       "  </tbody>\n",
       "</table>\n",
       "</div>"
      ],
      "text/plain": [
       "         sumsquare_error         aic         bic  kl_div\n",
       "norm            0.088308  780.197966 -390.583766     inf\n",
       "gamma           0.088521  781.830249 -386.326211     inf\n",
       "lognorm         0.090317  784.101266 -385.100941     inf"
      ]
     },
     "execution_count": 32,
     "metadata": {},
     "output_type": "execute_result"
    },
    {
     "data": {
      "image/png": "[encoded data removed]",
      "text/plain": [
       "<Figure size 432x288 with 1 Axes>"
      ]
     },
     "metadata": {
      "needs_background": "light"
     },
     "output_type": "display_data"
    }
   ],
   "source": [
    "#test it runs\n",
    "visualize_distributions(data=df, dv_col='cc_normalized_per_volume', distributions=[\"gamma\",\"lognorm\",\"norm\"])"
   ]
  },
  {
   "cell_type": "markdown",
   "id": "165f7bb4-550c-4b16-b10e-e90aaee8db34",
   "metadata": {},
   "source": [
    "## Main function"
   ]
  },
  {
   "cell_type": "code",
   "execution_count": 40,
   "id": "0b5f5827",
   "metadata": {},
   "outputs": [],
   "source": [
    "def compute_assumptions(data: pd.DataFrame, dv_col: str, iv_col: str, stat_results) -> Dict:\n",
    "    stat_results = check_normality(data, dv_col, results = stat_results)\n",
    "    #Make dataframes compatible for Levene's and Bartlett's test\n",
    "    equal_variance_test(data, dv_col, iv_col, stat_results) #ensure the data is appended to stat_results\n",
    "    return stat_results"
   ]
  },
  {
   "cell_type": "code",
   "execution_count": 41,
   "id": "7af7e16a",
   "metadata": {},
   "outputs": [
    {
     "data": {
      "text/plain": [
       "{'normal_distribution': {'test_statistic': 0.9805209636688232,\n",
       "  'p-value': 0.43962615728378296,\n",
       "  'bool': True},\n",
       " 'fixed_effects_equal_varriance': {'test_statistic': 1.008462065676145,\n",
       "  'p-value': 0.31527156257040106,\n",
       "  'bool': True}}"
      ]
     },
     "execution_count": 41,
     "metadata": {},
     "output_type": "execute_result"
    }
   ],
   "source": [
    "stat_results = compute_assumptions(df, \"cc_normalized_per_volume\", \"group_id\", stat_results)"
   ]
  },
  {
   "cell_type": "markdown",
   "id": "e8050c4c-3af0-4305-a3fe-c8adf0cd54b2",
   "metadata": {},
   "source": [
    "Model below is a continuation to deal with moddeling"
   ]
  },
  {
   "cell_type": "code",
   "execution_count": null,
   "id": "fea20e05-86e4-4425-8caf-fd25424cd2b2",
   "metadata": {},
   "outputs": [],
   "source": [
    "def run_a_model(data: pd.DataFrame, dv_col: str, iv_col: str, subject: str, distribution_type: Optional[str]=None) -> Dict:\n",
    "    \n",
    "    if (stat_results['fixed_effects_equal_varriance']['bool'] == True) AND (stat_results['normal_distribution']['bool'] == True):\n",
    "        #Run LM() from R\n",
    "    \n",
    "    elif (stat_results['fixed_effects_equal_varriance']['bool'] == False) AND (stat_results['normal_distribution']['bool'] == True):\n",
    "        #Run LMER() from R\n",
    "        \n",
    "    elif (stat_results['fixed_effects_equal_varriance']['bool'] == True) AND (stat_results['normal_distribution']['bool'] == False): \n",
    "        #if we have equal varriance & no normal distribution\n",
    "        \n",
    "        #GLM can only handle gamma, inverse gausian or normal\n",
    "        visualize_distributions(data=df, dv_col='cc_normalized_per_volume', distributions=[\"gamma\",\"invgauss\",\"norm\"])\n",
    "        print(\"Your data can be used in a generlized linear model. Please select the name of the distribution that matches your data. If none, please note none.\")\n",
    "        #make an entery in stat_results['GLM_distribution']\n",
    "        if stat_results['GLM_distribution'] != 'none':\n",
    "            #run GLM with that distribution \n",
    "        #if we have equal varriance in fixed effects and have determined that no GLM distribution will work\n",
    "        if: stat_results['GLM_distribution'] == 'none': #if GLM won't work \n",
    "            non_par_equal_var(data, dv_col, iv_col) #run non-parametric with non-agregated data\n",
    "        else: print(\"An error has occured, please restart the function.\")\n",
    "            \n",
    "        #in cases there there is no equal varriance\n",
    "    elif (stat_results['fixed_effects_equal_varriance']['bool'] == False) AND (stat_results['normal_distribution']['bool'] == False):\n",
    "        #if we have no equal varriance & no normal distribution\n",
    "        \n",
    "        #run GLMM - can only handle gamma, lognorm, norm\n",
    "        visualize_distributions(data=df, dv_col='cc_normalized_per_volume', distributions=[\"gamma\",\"lognorm\",\"norm\"])\n",
    "        print(\"Your data can be used in a generlized linear mixed effects model. Please select the name of the distribution that matches your data. If none, please note none.\")\n",
    "        #make an entery in stat_results['GLMM_distribution']\n",
    "        if stat_results['GLMM_distribution'] != 'none'\n",
    "            #Run GLMER with that distribution\n",
    "        if: stat_results['GLMM_distribution'] == 'none': #if GLMM won't work\n",
    "            non_par_inequal_var(data, dv_col, iv_col, subject) #run non-parametric with agregated data\n",
    "        else: print(\"An error has occured, please restart the function.\")\n",
    "    \n",
    "    else: print(\"Values for stat_results might not be present. Please run check_assumptions()\")"
   ]
  },
  {
   "cell_type": "markdown",
   "id": "f8160738-6c7b-4576-b26d-687d350f31f0",
   "metadata": {},
   "source": [
    "### Plotting Normality - used on existing model"
   ]
  },
  {
   "cell_type": "code",
   "execution_count": 50,
   "id": "9f07ccab-2656-4f49-b4f7-c85108e8acdd",
   "metadata": {},
   "outputs": [
    {
     "data": {
      "image/png": "[encoded data removed]",
      "text/plain": [
       "<Figure size 576x360 with 1 Axes>"
      ]
     },
     "metadata": {},
     "output_type": "display_data"
    }
   ],
   "source": [
    "#2 types of normality plots\n",
    "#kde_kws = {\"shade\" : True, \"lw\": 1}\n",
    "fig = plt.figure(figsize=(8,5), facecolor='white')\n",
    "ax = fig.add_subplot()\n",
    "sns.kdeplot(model.resid, fill=True, ax=ax)\n",
    "\n",
    "xmin, xmax = plt.xlim()\n",
    "x = np.linspace(xmin, xmax, 100)\n",
    "mu, std = norm.fit(model.resid)\n",
    "p = norm.pdf(x, mu, std)\n",
    "plt.plot(x, p, 'k', linewidth=2)\n",
    "\n",
    "#sns.kdeplot(normal_dist, color = 'k', ax=ax)\n",
    "\n",
    "plt.title(\"KDE Plot of Model Residuals (Blue) and Normal Distribution (Black)\")\n",
    "plt.xlabel(\"Residuals\")\n",
    "plt.show()"
   ]
  },
  {
   "cell_type": "code",
   "execution_count": 13,
   "id": "2ad4cbbf-7a62-469b-a869-40dda8882373",
   "metadata": {},
   "outputs": [
    {
     "data": {
      "image/png": "[encoded data removed]",
      "text/plain": [
       "<Figure size 432x288 with 1 Axes>"
      ]
     },
     "metadata": {
      "needs_background": "light"
     },
     "output_type": "display_data"
    }
   ],
   "source": [
    "#h = sns.displot(df, x=\"cc_normalized_per_volume\", kind=\"kde\")\n",
    "#df_normal = np.random.normal(statistics.mean(df['cc_normalized_per_volume']),statistics.stdev(df['cc_normalized_per_volume']),61)\n",
    "df_hist = df['cc_normalized_per_volume']\n",
    "mu, std = norm.fit(df_hist)\n",
    "plt.hist(df_hist, bins=25, density=True, alpha=0.6, color='b')\n",
    "\n",
    "# Plot the PDF.\n",
    "xmin, xmax = plt.xlim()\n",
    "x = np.linspace(xmin, xmax, 100)\n",
    "p = norm.pdf(x, mu, std)\n",
    "\n",
    "plt.plot(x, p, 'k', linewidth=2)\n",
    "title = \"Distribution of the dependent variable overlaid with a normal distribution\".format(mu, std)\n",
    "plt.title(title)\n",
    "  \n",
    "plt.show()\n",
    "\n",
    "#Problem: the histogram doesn't seem to represent our data - figure out why when you have time\n",
    "#def map_pdf(x, **kwargs):\n",
    "#    mu, std = scipy.stats.norm.fit(x)\n",
    "#    x0, x1 = p1.axes[0][0].get_xlim()  # axes for p1 is required to determine x_pdf\n",
    "#    x_pdf = np.linspace(x0, x1, 100)\n",
    "#    y_pdf = scipy.stats.norm.pdf(x_pdf, mu, std)\n",
    "#    plt.plot(x_pdf, y_pdf, c='r')\n",
    "\n",
    "\n",
    "#p1 = sns.displot(data=df_hist, x=df_hist['cc_normalized_per_volume'], kind='hist', bins=40, stat='density')\n",
    "#p1.map(map_pdf, 'cc_normalized_per_volume')"
   ]
  },
  {
   "cell_type": "code",
   "execution_count": 51,
   "id": "5f745b08-098f-4471-aa03-f707ea16d392",
   "metadata": {},
   "outputs": [
    {
     "data": {
      "image/png": "[encoded data removed]",
      "text/plain": [
       "<Figure size 576x360 with 1 Axes>"
      ]
     },
     "metadata": {},
     "output_type": "display_data"
    }
   ],
   "source": [
    "fig = plt.figure(figsize=(8,5), facecolor='white')\n",
    "ax = fig.add_subplot()\n",
    "ax = scipy.stats.probplot(df['cc_normalized_per_volume'], dist=\"norm\", plot=plt)\n",
    "plt.show()"
   ]
  },
  {
   "cell_type": "markdown",
   "id": "7fa37fe4-7f95-4f9d-96ab-2fc4a8ada93e",
   "metadata": {},
   "source": [
    "# Linearity\n",
    "To determine if we have linearity, the points should be symmetrically distributed around a horizontal line, with a roughly constant variance. \n",
    "Source: https://people.duke.edu/~rnau/testing.htm"
   ]
  },
  {
   "cell_type": "code",
   "execution_count": 64,
   "id": "9ca60fe5-0eb7-4c34-a056-e18f92664843",
   "metadata": {},
   "outputs": [
    {
     "data": {
      "image/png": "[encoded data removed]",
      "text/plain": [
       "<Figure size 1152x648 with 1 Axes>"
      ]
     },
     "metadata": {
      "needs_background": "light"
     },
     "output_type": "display_data"
    }
   ],
   "source": [
    "fig = plt.figure(figsize = (16, 9))\n",
    "ax = sns.scatterplot(y = model.resid, x = model.fittedvalues)\n",
    "ax.set_title(\"Plot to determine Linearity\")\n",
    "ax.set_xlabel(\"Fitted Values\")\n",
    "ax.set_ylabel(\"Residuals\")\n",
    "plt.show()"
   ]
  },
  {
   "cell_type": "markdown",
   "id": "5213d166-c471-41e2-a28c-b95c1203e427",
   "metadata": {},
   "source": [
    "### Outlier removal"
   ]
  },
  {
   "cell_type": "code",
   "execution_count": 68,
   "id": "691d2ea1-81fc-44f3-9ffc-3839a7f29b47",
   "metadata": {},
   "outputs": [
    {
     "data": {
      "text/plain": [
       "0      0.000000\n",
       "1     18.729920\n",
       "2      8.306840\n",
       "3      4.944721\n",
       "4     24.454311\n",
       "        ...    \n",
       "56    36.798276\n",
       "57    28.516217\n",
       "58    31.592163\n",
       "59    22.159508\n",
       "60    27.151992\n",
       "Name: cc_normalized_per_volume, Length: 61, dtype: float64"
      ]
     },
     "execution_count": 68,
     "metadata": {},
     "output_type": "execute_result"
    }
   ],
   "source": [
    "df['cc_normalized_per_volume']"
   ]
  },
  {
   "cell_type": "code",
   "execution_count": 78,
   "id": "03dca7ef-d726-47a0-b8d5-1bdb3fb70cd4",
   "metadata": {},
   "outputs": [
    {
     "data": {
      "text/html": [
       "<div>\n",
       "<style scoped>\n",
       "    .dataframe tbody tr th:only-of-type {\n",
       "        vertical-align: middle;\n",
       "    }\n",
       "\n",
       "    .dataframe tbody tr th {\n",
       "        vertical-align: top;\n",
       "    }\n",
       "\n",
       "    .dataframe thead th {\n",
       "        text-align: right;\n",
       "    }\n",
       "</style>\n",
       "<table border=\"1\" class=\"dataframe\">\n",
       "  <thead>\n",
       "    <tr style=\"text-align: right;\">\n",
       "      <th></th>\n",
       "      <th>Unnamed: 0</th>\n",
       "      <th>file_id</th>\n",
       "      <th>group_id</th>\n",
       "      <th>subject_id</th>\n",
       "      <th>analyzed_area</th>\n",
       "      <th>total_planes</th>\n",
       "      <th>connected_components</th>\n",
       "      <th>cc_normalized_per_area</th>\n",
       "      <th>cc_normalized_per_volume</th>\n",
       "    </tr>\n",
       "  </thead>\n",
       "  <tbody>\n",
       "    <tr>\n",
       "      <th>0</th>\n",
       "      <td>0</td>\n",
       "      <td>0</td>\n",
       "      <td>tg</td>\n",
       "      <td>#10_tg_old</td>\n",
       "      <td>1118784.0</td>\n",
       "      <td>8.0</td>\n",
       "      <td>0.0</td>\n",
       "      <td>0.000000</td>\n",
       "      <td>0.000000</td>\n",
       "    </tr>\n",
       "    <tr>\n",
       "      <th>1</th>\n",
       "      <td>1</td>\n",
       "      <td>1</td>\n",
       "      <td>tg</td>\n",
       "      <td>#10_tg_old</td>\n",
       "      <td>5697120.0</td>\n",
       "      <td>8.0</td>\n",
       "      <td>64.0</td>\n",
       "      <td>149.839362</td>\n",
       "      <td>18.729920</td>\n",
       "    </tr>\n",
       "    <tr>\n",
       "      <th>2</th>\n",
       "      <td>2</td>\n",
       "      <td>2</td>\n",
       "      <td>tg</td>\n",
       "      <td>#10_tg_old</td>\n",
       "      <td>6422816.0</td>\n",
       "      <td>8.0</td>\n",
       "      <td>32.0</td>\n",
       "      <td>66.454716</td>\n",
       "      <td>8.306840</td>\n",
       "    </tr>\n",
       "    <tr>\n",
       "      <th>3</th>\n",
       "      <td>3</td>\n",
       "      <td>3</td>\n",
       "      <td>tg</td>\n",
       "      <td>#10_tg_old</td>\n",
       "      <td>5394976.0</td>\n",
       "      <td>8.0</td>\n",
       "      <td>16.0</td>\n",
       "      <td>39.557768</td>\n",
       "      <td>4.944721</td>\n",
       "    </tr>\n",
       "    <tr>\n",
       "      <th>4</th>\n",
       "      <td>4</td>\n",
       "      <td>4</td>\n",
       "      <td>tg</td>\n",
       "      <td>#10_tg_old</td>\n",
       "      <td>4181696.0</td>\n",
       "      <td>9.0</td>\n",
       "      <td>69.0</td>\n",
       "      <td>220.088800</td>\n",
       "      <td>24.454311</td>\n",
       "    </tr>\n",
       "    <tr>\n",
       "      <th>...</th>\n",
       "      <td>...</td>\n",
       "      <td>...</td>\n",
       "      <td>...</td>\n",
       "      <td>...</td>\n",
       "      <td>...</td>\n",
       "      <td>...</td>\n",
       "      <td>...</td>\n",
       "      <td>...</td>\n",
       "      <td>...</td>\n",
       "    </tr>\n",
       "    <tr>\n",
       "      <th>56</th>\n",
       "      <td>56</td>\n",
       "      <td>59</td>\n",
       "      <td>wt</td>\n",
       "      <td>#9_wt_old</td>\n",
       "      <td>7410528.0</td>\n",
       "      <td>9.0</td>\n",
       "      <td>184.0</td>\n",
       "      <td>331.184482</td>\n",
       "      <td>36.798276</td>\n",
       "    </tr>\n",
       "    <tr>\n",
       "      <th>57</th>\n",
       "      <td>57</td>\n",
       "      <td>60</td>\n",
       "      <td>wt</td>\n",
       "      <td>#9_wt_old</td>\n",
       "      <td>7109728.0</td>\n",
       "      <td>10.0</td>\n",
       "      <td>152.0</td>\n",
       "      <td>285.162170</td>\n",
       "      <td>28.516217</td>\n",
       "    </tr>\n",
       "    <tr>\n",
       "      <th>58</th>\n",
       "      <td>58</td>\n",
       "      <td>61</td>\n",
       "      <td>wt</td>\n",
       "      <td>#9_wt_old</td>\n",
       "      <td>5770116.0</td>\n",
       "      <td>9.0</td>\n",
       "      <td>123.0</td>\n",
       "      <td>284.329471</td>\n",
       "      <td>31.592163</td>\n",
       "    </tr>\n",
       "    <tr>\n",
       "      <th>59</th>\n",
       "      <td>59</td>\n",
       "      <td>62</td>\n",
       "      <td>wt</td>\n",
       "      <td>#9_wt_old</td>\n",
       "      <td>5751712.0</td>\n",
       "      <td>9.0</td>\n",
       "      <td>86.0</td>\n",
       "      <td>199.435575</td>\n",
       "      <td>22.159508</td>\n",
       "    </tr>\n",
       "    <tr>\n",
       "      <th>60</th>\n",
       "      <td>60</td>\n",
       "      <td>63</td>\n",
       "      <td>wt</td>\n",
       "      <td>#9_wt_old</td>\n",
       "      <td>4715968.0</td>\n",
       "      <td>10.0</td>\n",
       "      <td>96.0</td>\n",
       "      <td>271.519917</td>\n",
       "      <td>27.151992</td>\n",
       "    </tr>\n",
       "  </tbody>\n",
       "</table>\n",
       "<p>61 rows × 9 columns</p>\n",
       "</div>"
      ],
      "text/plain": [
       "    Unnamed: 0  file_id group_id  subject_id  analyzed_area  total_planes  \\\n",
       "0            0        0       tg  #10_tg_old      1118784.0           8.0   \n",
       "1            1        1       tg  #10_tg_old      5697120.0           8.0   \n",
       "2            2        2       tg  #10_tg_old      6422816.0           8.0   \n",
       "3            3        3       tg  #10_tg_old      5394976.0           8.0   \n",
       "4            4        4       tg  #10_tg_old      4181696.0           9.0   \n",
       "..         ...      ...      ...         ...            ...           ...   \n",
       "56          56       59       wt   #9_wt_old      7410528.0           9.0   \n",
       "57          57       60       wt   #9_wt_old      7109728.0          10.0   \n",
       "58          58       61       wt   #9_wt_old      5770116.0           9.0   \n",
       "59          59       62       wt   #9_wt_old      5751712.0           9.0   \n",
       "60          60       63       wt   #9_wt_old      4715968.0          10.0   \n",
       "\n",
       "    connected_components  cc_normalized_per_area  cc_normalized_per_volume  \n",
       "0                    0.0                0.000000                  0.000000  \n",
       "1                   64.0              149.839362                 18.729920  \n",
       "2                   32.0               66.454716                  8.306840  \n",
       "3                   16.0               39.557768                  4.944721  \n",
       "4                   69.0              220.088800                 24.454311  \n",
       "..                   ...                     ...                       ...  \n",
       "56                 184.0              331.184482                 36.798276  \n",
       "57                 152.0              285.162170                 28.516217  \n",
       "58                 123.0              284.329471                 31.592163  \n",
       "59                  86.0              199.435575                 22.159508  \n",
       "60                  96.0              271.519917                 27.151992  \n",
       "\n",
       "[61 rows x 9 columns]"
      ]
     },
     "execution_count": 78,
     "metadata": {},
     "output_type": "execute_result"
    }
   ],
   "source": [
    "df_filtered"
   ]
  },
  {
   "cell_type": "code",
   "execution_count": 93,
   "id": "dc8cadd5-aa19-46c1-b088-901026c09de4",
   "metadata": {},
   "outputs": [],
   "source": [
    "cutoff = 1.5*df['cc_normalized_per_volume'].std()\n",
    "mean = df['cc_normalized_per_volume'].mean()\n",
    "min_value, max_value = df['cc_normalized_per_volume'].min(), df['cc_normalized_per_volume'].max()\n",
    "\n",
    "df_filtered = df[(df.cc_normalized_per_volume >= mean - cutoff) & (df.cc_normalized_per_volume <= mean + cutoff)]"
   ]
  },
  {
   "cell_type": "code",
   "execution_count": null,
   "id": "05164a03-689c-4830-bc40-1edcbb17e1aa",
   "metadata": {},
   "outputs": [
    {
     "data": {
      "image/png": "[encoded data removed]",
      "text/plain": [
       "<Figure size 432x288 with 1 Axes>"
      ]
     },
     "metadata": {
      "needs_background": "light"
     },
     "output_type": "display_data"
    }
   ],
   "source": [
    "plt.hist(df['cc_normalized_per_volume'], bins=25, range=(min_value, max_value), alpha=0.6, color='orange')\n",
    "plt.hist(df_filtered['cc_normalized_per_volume'], bins=25, range=(min_value, max_value), color='black')\n",
    "plt.show()"
   ]
  },
  {
   "cell_type": "markdown",
   "id": "7f643266",
   "metadata": {},
   "source": [
    "# Code graveyard "
   ]
  },
  {
   "cell_type": "code",
   "execution_count": null,
   "id": "79932d3e",
   "metadata": {},
   "outputs": [],
   "source": [
    "########## Already a function ###########\n",
    "\n",
    "#def equal_variance_test(data: pd.DataFrame, dv_col: str, results: Dict) -> Dict:\n",
    "#you where working on ensure this ran so you could make the function below run and then put it into the main function to ensure that equal varriance could be tested\n",
    "    \n",
    "    #Make dataframes compatible for Levene's and Bartlett's test\n",
    "df_tg = df.loc[df['group_id'] == 'tg']\n",
    "df_tg = df_tg.rename(columns={\"cc_normalized_per_volume\": \"tg\"})\n",
    "\n",
    "df_wt = df.loc[df['group_id'] == 'wt']\n",
    "df_wt = df_wt.rename(columns={\"cc_normalized_per_volume\": \"wt\"})\n",
    "\n",
    "if stat_results['normal_distribution']['bool'] == False: #non-normal data\n",
    "    stat, p_homo = levene(df_wt['wt'], df_tg['tg'])\n",
    "    if p_homo >= 0.05:\n",
    "        normal = True\n",
    "        stat_results['fixed_effects_equal_varriance'] = {'test_statistic': stat, 'p-value': p_homo, 'bool': normal}\n",
    "    elif p_homo < 0.05:\n",
    "        normal = False\n",
    "        stat_results['fixed_effects_equal_varriance'] = {'test_statistic': stat, 'p-value': p_homo, 'bool': normal}\n",
    "elif stat_results['normal_distribution']['bool'] == True: #normal data\n",
    "    stat, p_homo = bartlett(df_wt['wt'], df_tg['tg'])\n",
    "    if p_homo >= 0.05:\n",
    "        normal = True\n",
    "        stat_results['fixed_effects_equal_varriance'] = {'test_statistic': stat, 'p-value': p_homo, 'bool': normal}\n",
    "    elif p_homo < 0.05:\n",
    "        normal = False\n",
    "        stat_results['fixed_effects_equal_varriance'] = {'test_statistic': stat, 'p-value': p_homo, 'bool': normal}\n",
    "else: print('Normality not assessed yet. Please complete normality test before proceeding')"
   ]
  },
  {
   "cell_type": "code",
   "execution_count": null,
   "id": "36381a14",
   "metadata": {},
   "outputs": [],
   "source": [
    "####### useless --> R code used instead ######\n",
    "import gpboost as gpb\n",
    "gp_model = gpb.GPModel(group_data=df['subject_id'], likelihood=\"lognorm\")\n",
    "gp_model.fit(y='cc_normalized_per_volume', x = 'group_id')\n",
    "gp_model.summary()"
   ]
  },
  {
   "cell_type": "code",
   "execution_count": null,
   "id": "601232ca",
   "metadata": {},
   "outputs": [],
   "source": [
    "###### Already in a function ########\n",
    "from fitter import Fitter, get_common_distributions, get_distributions\n",
    "f = Fitter(df['cc_normalized_per_volume'],\n",
    "           distributions=['gamma',\n",
    "                          'lognorm',\n",
    "                          \"norm\"])\n",
    "f.fit()\n",
    "f.summary()"
   ]
  },
  {
   "cell_type": "code",
   "execution_count": 5,
   "id": "a6b2d891-746f-45f3-a2e3-1773e0adcf54",
   "metadata": {},
   "outputs": [
    {
     "name": "stdout",
     "output_type": "stream",
     "text": [
      "Formula: cc_normalized_per_volume~group_id\n",
      "\n",
      "Family: gaussian\t Estimator: OLS\n",
      "\n",
      "Std-errors: non-robust\tCIs: standard 95%\tInference: parametric \n",
      "\n",
      "Number of observations: 61\t R^2: 0.000\t R^2_adj: -0.017\n",
      "\n",
      "Log-likelihood: -223.555 \t AIC: 451.111\t BIC: 455.332\n",
      "\n",
      "Fixed effects:\n",
      "\n",
      "                Estimate  2.5_ci  97.5_ci     SE  DF  T-stat  P-val  Sig\n",
      "Intercept         18.846  15.336   22.356  1.754  59  10.744  0.000  ***\n",
      "group_id[T.wt]    -0.194  -5.117    4.730  2.461  59  -0.079  0.937     \n"
     ]
    }
   ],
   "source": [
    "######## Pymer --> now R code ##########\n",
    "#LM models\n",
    "model = Lm(\"cc_normalized_per_volume ~ group_id\", data=df)\n",
    "print(model.fit())\n",
    "\n",
    "filtered_subjects = []\n",
    "for subject_id in df[\"subject_id\"].unique():\n",
    "    if df.loc[df[\"subject_id\"]==subject_id].shape[0] == 6:\n",
    "        filtered_subjects.append(df.loc[df[\"subject_id\"]==subject_id].copy())\n",
    "df_test = pd.concat(filtered_subjects)\n",
    "df_test[\"subject_id\"].value_counts()\n",
    "\n",
    "model = Lmer(\"cc_normalized_per_volume ~ group_id + (1|subject_id)\", data=df_test)\n",
    "print(model.fit())\n",
    "\n",
    "#error indicates I'm specifying too many columns (7), but I'm only using 2-3"
   ]
  },
  {
   "cell_type": "code",
   "execution_count": null,
   "id": "5ba143cf",
   "metadata": {},
   "outputs": [],
   "source": [
    "### Funtion for GLM (acually functional) --->  now in R ##########\n",
    "\n",
    "df.loc[df['group_id'] == 'wt', 'group_id'] = -1\n",
    "df.loc[df['group_id'] == 'tg', 'group_id'] = 1\n",
    "df['group_id'] = pd.Categorical(df['group_id'])\n",
    "df['cc_normalized_per_volume']\n",
    "\n",
    "#make GLM run - endo = DV, exo = IDV\n",
    "glm = sm.GLM(df['cc_normalized_per_volume'], df['group_id'], family=sm.families.Gaussian()) #supports Gamma, InverseGaussian, Gaussian\n",
    "res = glm.fit()\n",
    "print(res.summary())"
   ]
  },
  {
   "cell_type": "code",
   "execution_count": null,
   "id": "d260e4b2",
   "metadata": {},
   "outputs": [],
   "source": [
    "####### retired function - now using compute_statistics #######\n",
    "\n",
    "# Example how the bigger picture could look like\n",
    "#Note: make dict a global varribale and append for each function?\n",
    "#removed from compute_statistics to make run: Dictdistribution_type: Optional[str]=None\n",
    "def compute_statistics(data: pd.DataFrame, dv_col: str, iv_col: str, stat_results) -> Dict:\n",
    "    stat_results = check_normality(data=df, dv_col='cc_normalized_per_volume', results = stat_results)\n",
    "    if stat_results['normal_distribution']['bool']:\n",
    "        model = create_a_mixed_linear_model(data = df, dv_col = 'cc_normalized_per_volume', fixed_effects_col = 'group_id', random_effects_col = 'subject_id')\n",
    "        return model, stat_results\n",
    "    #else:\n",
    "        #Visualize the equaliy between the different groups\n",
    "       # print(\"Normality could not be assumed. To determine which statistical model to use, please select if the varriance between different the different groups is equal\")\n",
    "       # plot_fixed_effect_varriance(data = df, dv_col = 'cc_normalized_per_volume', fixed_effects_col = 'group_id', random_effects_col = 'subject_id')\n",
    "        #exit to make the user decide if varriance is equal and somehow note that in the results file. Note as 'fixed_effects_equal_varriance'\n",
    "        # exit if distribution_type == None:\n",
    "            # exit\n",
    "        # if defined: adjusted_model = create_adjusted_model(data, distribution_type\n",
    "        \n",
    "        #ALTERNATIVELY\n",
    "    else:\n",
    "        #Make dataframes compatible for Levene's and Bartlett's test\n",
    "        equal_variance_test(data, dv_col, iv_col, stat_results) #ensure the data is appended to stat_results\n",
    "        return stat_results"
   ]
  },
  {
   "cell_type": "code",
   "execution_count": null,
   "id": "26b31bce",
   "metadata": {},
   "outputs": [],
   "source": [
    "###### checking that data can be aggregated for non-parametic function - now implemented in function #####\n",
    "#Aggregvate the data across subjects\n",
    "df_nonpar = df.groupby(['subject_id', 'group_id'], as_index=False)['cc_normalized_per_volume'].mean()\n",
    "#run non-par model\n",
    "kruskal(data=df_nonpar, dv='cc_normalized_per_volume', between='group_id')"
   ]
  },
  {
   "cell_type": "code",
   "execution_count": null,
   "id": "ee0e07a8",
   "metadata": {},
   "outputs": [],
   "source": [
    "### create function for LMER --> R code will replce ###\n",
    "\n",
    "from statsmodels.regression.mixed_linear_model import MixedLMResultsWrapper\n",
    "\n",
    "def create_a_mixed_linear_model(data: pd.DataFrame, dv_col: str, fixed_effects_col: str, random_effects_col: str) -> MixedLMResultsWrapper:\n",
    "    return smf.mixedlm(f\"{dv_col} ~ {fixed_effects_col}\", data, groups = random_effects_col).fit()"
   ]
  },
  {
   "cell_type": "code",
   "execution_count": null,
   "id": "2e5e9cc2",
   "metadata": {},
   "outputs": [],
   "source": [
    "#Check it's running before putting it into the model --> now uses R code\n",
    "model = smf.mixedlm(\"cc_normalized_per_volume ~ group_id\", df, groups = \"subject_id\").fit()\n",
    "model.summary()"
   ]
  },
  {
   "cell_type": "code",
   "execution_count": null,
   "id": "a270007a",
   "metadata": {},
   "outputs": [],
   "source": [
    "### Homoscedasticity loop based on normality - non-model related --> now used in equal_varriance_test\n",
    "\n",
    "#Make dataframes compatible for Levene's and Bartlett's test\n",
    "df_tg = df.loc[df['group_id'] == 'tg']\n",
    "df_tg = df_tg.rename(columns={\"cc_normalized_per_volume\": \"tg\"})\n",
    "\n",
    "df_wt = df.loc[df['group_id'] == 'wt']\n",
    "df_wt = df_wt.rename(columns={\"cc_normalized_per_volume\": \"wt\"})\n",
    "\n",
    "### Homoscedasticity loop based on normality - non-model related\n",
    "stat, p_norm = shapiro(df['cc_normalized_per_volume'])\n",
    "if p_norm >= 0.05:\n",
    "    print(\"Normality can be assumed, running Bartlett's test\")\n",
    "    stat, p_homo = levene(df_wt['wt'], df_tg['tg'])\n",
    "    if p_homo >= 0.05:\n",
    "        print (\"Homoscedasticity is not violated. P-value for Bartlett's test was {}\".format(p_homo))\n",
    "    elif p_homo < 0.05:\n",
    "        print(\"Homoscedasticity is violated. P-value for Bartlett's test was {}. Consider running data transformations\".format(p_homo))\n",
    "else:\n",
    "    print(\"WARNING: Normality is violated, running Levene's test\")\n",
    "    stat, p_homo = levene(df_wt['wt'], df_tg['tg'])\n",
    "    if p_homo >= 0.05:\n",
    "        print (\"Homoscedasticity is not violated. P-value for Levene's test was {}\".format(p_homo))\n",
    "    elif p_homo < 0.05:\n",
    "        print(\"Homoscedasticity is violated. P-value for Levene's test was {}\".format(p_homo))\n",
    "        "
   ]
  },
  {
   "cell_type": "markdown",
   "id": "04c77dd3",
   "metadata": {},
   "source": [
    "#### Visualizing Homoscedasticity - model related\n",
    "Generally, if the ratio of the largest variance to the smallest variance is 1.5 or below, the data is homoscedastic.\n",
    "Simply put, homoscedasticity means “having the same scatter.” For it to exist in a set of data, the points must be about the same distance from the line.\n",
    "Source: https://www.statisticshowto.com/homoscedasticity/\n",
    "Code source: https://www.pythonfordatascience.org/mixed-effects-regression-python/"
   ]
  },
  {
   "cell_type": "code",
   "execution_count": null,
   "id": "20f4a071",
   "metadata": {},
   "outputs": [],
   "source": [
    "# plots for homoscasedesity - now in equal varriance function\n",
    "\n",
    "fig = plt.figure(figsize = (16, 9))\n",
    "ax = sns.scatterplot(y = model.resid, x = model.fittedvalues)\n",
    "ax.set_title(\"Plot to determine homoscedasticity\")\n",
    "ax.set_xlabel(\"Fitted Values\")\n",
    "ax.set_ylabel(\"Residuals\")\n",
    "plt.show()\n",
    "\n",
    "fig = plt.figure(figsize = (16, 9))\n",
    "ax = sns.stripplot(x = model.model.groups, y = model.resid, color='k')\n",
    "ax = sns.violinplot(x = model.model.groups, y = model.resid)\n",
    "ax.set_title(\"Distribution of Residuals for Each Subject\")\n",
    "ax.set_ylabel(\"Residuals\")\n",
    "ax.set_xlabel(\"Subject\")\n",
    "plt.show()"
   ]
  },
  {
   "cell_type": "code",
   "execution_count": null,
   "id": "cf7b80db",
   "metadata": {},
   "outputs": [],
   "source": [
    "######## extra fitter stuff not used in the code ######\n",
    "\n",
    "#figure out which method is best based on the available criteria\n",
    "f.get_best(method = 'aic')\n",
    "\n",
    "#get parameters for a certain function - not noted what they mean\n",
    "f.fitted_param['gamma']\n",
    "\n",
    "#datapoints for the probability density function\n",
    "f.fitted_pdf['gamma']"
   ]
  },
  {
   "cell_type": "code",
   "execution_count": null,
   "id": "4bcd66bc",
   "metadata": {},
   "outputs": [],
   "source": [
    "# Generlized linear mixed effects model --> now R code is used\n",
    "\n",
    "#inserted code chunk to deal with later\n",
    "gp_model = gpb.GPModel(group_data=group_data, likelihood=\"binary\")\n",
    "gp_model.fit(y=y, X=X)\n",
    "gp_model.summary()\n",
    "\n",
    "#p-values\n",
    "gp_model = gpb.GPModel(group_data=group, likelihood=\"binary\")\n",
    "gp_model.fit(y=y, X=X, params={“std_dev”: True})\n",
    "coefs = gp_model.get_coef()\n",
    "z_values = coefs[0] / coefs[1]\n",
    "p_values = 2 * stats.norm.cdf(-np.abs(z_values))\n",
    "print(p_values) # show p-values\n",
    "\n",
    "#predictions\n",
    "pred = gp_model.predict(X_pred=X_test, group_data_pred=group_test,\n",
    "                        predict_var=True, predict_response=False)\n",
    "print(pred['mu'])  # predicted latent mean\n",
    "print(pred['var']) # predicted latent variance"
   ]
  },
  {
   "cell_type": "markdown",
   "id": "e33419a4",
   "metadata": {},
   "source": [
    "group_data_pred is a matrix or vector with categorical grouping variable(s) for which predictions are made\n",
    "\n",
    "X_pred is a matrix with fixed effects covariate data for which predictions are made\n",
    "\n",
    "predict_var (boolean) indicates whether predictive variances should be calculated in addition to the mean\n",
    "\n",
    "predict_response (boolean) indicates whether the response y or the latent Xb + Zu should be predicted. I.e., the random effects part is also predicted. If group_data_pred contains new, unobserved categories, the corresponding random effects predictions will be 0."
   ]
  }
 ],
 "metadata": {
  "kernelspec": {
   "display_name": "Python 3",
   "language": "python",
   "name": "python3"
  },
  "language_info": {
   "codemirror_mode": {
    "name": "ipython",
    "version": 3
   },
   "file_extension": ".py",
   "mimetype": "text/x-python",
   "name": "python",
   "nbconvert_exporter": "python",
   "pygments_lexer": "ipython3",
   "version": "3.8.13"
  }
 },
 "nbformat": 4,
 "nbformat_minor": 5
}
